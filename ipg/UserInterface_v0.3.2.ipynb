{
 "cells": [
  {
   "cell_type": "markdown",
   "metadata": {},
   "source": [
    "# Welcome to the HCR 3.0 Probe Maker v0.3.2\n",
    "### Written by:\n",
    "RW Null, MD Ramirez, D Sun, and BD Özpolat"
   ]
  },
  {
   "cell_type": "markdown",
   "metadata": {},
   "source": [
    "\n",
    "### To run a cell, click on it, hold \"SHIFT\" and press \"RETURN\" on your keyboard\n",
    "\n",
    "####   - or -   use the [>| Run] button above \n"
   ]
  },
  {
   "cell_type": "markdown",
   "metadata": {},
   "source": [
    "# Start with this box. \n",
    "   ### After you run this box you can use the boxes below to modify particular inputs of your run."
   ]
  },
  {
   "cell_type": "code",
   "execution_count": null,
   "metadata": {
    "scrolled": false
   },
   "outputs": [],
   "source": [
    "from start import start\n",
    "from maker37cb import maker\n",
    "\n",
    "strt = start()\n",
    "name,fullseq,amplifier,pause,choose,polyAT,polyCG,BlastProbes,db,dropout,show,report,maxprobe,numbr = strt[0],strt[1],strt[2],strt[3],strt[4],strt[5],strt[6],strt[7],strt[8],strt[9],strt[10],strt[11],strt[12],strt[13]\n",
    "maker(name,fullseq,amplifier,pause,choose,polyAT,polyCG,BlastProbes,db,dropout,show,report,maxprobe,numbr)\n"
   ]
  },
  {
   "cell_type": "markdown",
   "metadata": {},
   "source": [
    "\n",
    "\n",
    "## Running the cells below allow you to modify parts of your input\n",
    "\n"
   ]
  },
  {
   "cell_type": "markdown",
   "metadata": {},
   "source": [
    "   \n",
    "   ### Change the gene name used for outputs\n",
    "   "
   ]
  },
  {
   "cell_type": "code",
   "execution_count": null,
   "metadata": {},
   "outputs": [],
   "source": [
    "\n",
    "name = str(input(\"What is the gene name? (ex. eGFP) \"))\n"
   ]
  },
  {
   "cell_type": "markdown",
   "metadata": {},
   "source": [
    "   \n",
    "   ### Change the cDNA sequence\n",
    "   "
   ]
  },
  {
   "cell_type": "code",
   "execution_count": null,
   "metadata": {},
   "outputs": [],
   "source": [
    "\n",
    "fullseq = str(input(\"Enter the sense sequence of your cDNA without spaces or returns. \"))\n"
   ]
  },
  {
   "cell_type": "markdown",
   "metadata": {},
   "source": [
    "   \n",
    "   ### Change the hairpin you will use to amplify with. \n",
    "   ##### B1-B5 were used by Choi et al. 2014 and B7 to B17 were reported by Wang et al. BioRxiv 2020\n",
    "                                                    "
   ]
  },
  {
   "cell_type": "code",
   "execution_count": null,
   "metadata": {},
   "outputs": [],
   "source": [
    "\n",
    "amplifier = str(input(\"What is the amplifier to be used with this probe set? B1,B2,B3,B4,B5,B7,B9,B10,B11,B13,B14,B15,or B17  \").upper())\n"
   ]
  },
  {
   "cell_type": "markdown",
   "metadata": {},
   "source": [
    "  \n",
    "  \n",
    "   ### Adjust the number of bases skipped at the 5' end of the cDNA before starting to make probes\n",
    "  "
   ]
  },
  {
   "cell_type": "code",
   "execution_count": null,
   "metadata": {},
   "outputs": [],
   "source": [
    "\n",
    "pause = int(input(\"How many bases from 5' end of the Sense RNA before starting to hybridize? ex. 100 \"))\n"
   ]
  },
  {
   "cell_type": "markdown",
   "metadata": {},
   "source": [
    "\n",
    "   ### Change the tolerated homopolymer lengths of (poly-A & poly-T) and/or (poly-C & polyG)\n",
    "   "
   ]
  },
  {
   "cell_type": "code",
   "execution_count": null,
   "metadata": {},
   "outputs": [],
   "source": [
    "\n",
    "polyAT = int(input(\"What is the max acceptable length for polyA or polyT homopolymers? \"))\n",
    "polyCG = int(input(\"What is the max acceptable length for polyC or polyG homopolymers? \"))\n"
   ]
  },
  {
   "cell_type": "markdown",
   "metadata": {},
   "source": [
    "   \n",
    "   ###  If multiple probe pair sets are available, toggle the option to choose which set of probes gets made\n",
    "   "
   ]
  },
  {
   "cell_type": "code",
   "execution_count": null,
   "metadata": {},
   "outputs": [],
   "source": [
    "\n",
    "choose1 = str(input(\"Do you want to be able to select between potential longest probe sets? (Choosing 'N' defaults to the first longest set of probes.) Y or N    \"))\n"
   ]
  },
  {
   "cell_type": "markdown",
   "metadata": {},
   "source": [
    "   \n",
    "   ### Toggle on/off whether a BLASTn search is performed on the potential probes or the original input cDNA\n",
    "   "
   ]
  },
  {
   "cell_type": "code",
   "execution_count": null,
   "metadata": {},
   "outputs": [],
   "source": [
    "\n",
    "BlastProbes = str(input(\"Would you like BLAST potential probes against a FASTA file?  Y or N    \"))\n"
   ]
  },
  {
   "cell_type": "markdown",
   "metadata": {},
   "source": [
    "   \n",
    "   ### Specify the directory path of the FASTA file to be used as the BLASTn subject\n",
    "   "
   ]
  },
  {
   "cell_type": "code",
   "execution_count": null,
   "metadata": {},
   "outputs": [],
   "source": [
    "\n",
    "db = str(input(\"Where is the FASTA file you would like to BLAST against? Example: 'C:/users/user/***.fasta' Ignore if not BLASTing \" ))\n"
   ]
  },
  {
   "cell_type": "markdown",
   "metadata": {},
   "source": [
    "   ### Use BLASTn results to remove potential off-target probes"
   ]
  },
  {
   "cell_type": "code",
   "execution_count": null,
   "metadata": {},
   "outputs": [],
   "source": [
    "dropout = str(input(\"Do you want to eliminate probes that appear in low quaility BLAST outputs? Y or N   \"))"
   ]
  },
  {
   "cell_type": "markdown",
   "metadata": {},
   "source": [
    "   ### Toggle the presentation of detailed BLASTn results on/off"
   ]
  },
  {
   "cell_type": "code",
   "execution_count": null,
   "metadata": {},
   "outputs": [],
   "source": [
    "show = str(input(\"Do you want to display detailed BLAST outputs? Y or N  \"))"
   ]
  },
  {
   "cell_type": "markdown",
   "metadata": {},
   "source": [
    "### Toggle printing of parameters used at the end of the report"
   ]
  },
  {
   "cell_type": "code",
   "execution_count": null,
   "metadata": {},
   "outputs": [],
   "source": [
    "report = str(input(\"Do you want to display chosen parameters in output? Y or N   \"))"
   ]
  },
  {
   "cell_type": "markdown",
   "metadata": {},
   "source": [
    "### Toggle the max/arbitrary number of output sequences\n",
    "##### The biggest number of probes OPools will allow is 33 probe pairs at 50pmol for 99 dollars, less still costs 99, more increases the cost by each additional base.\n",
    "##### This option will let you set the limit of the number of probes; if left off will return the max number of probes."
   ]
  },
  {
   "cell_type": "code",
   "execution_count": null,
   "metadata": {},
   "outputs": [],
   "source": [
    "maxprobe = str(input(\"Do you want to limit the number of probes made?  Y or N    \"))"
   ]
  },
  {
   "cell_type": "markdown",
   "metadata": {},
   "source": [
    "### Set the maximum number of probes output.\n",
    "##### If you want the most, leave \"maxprobe\" off. \n",
    "##### If you want the optimal cost/probe ratio, enter 0 or 33"
   ]
  },
  {
   "cell_type": "code",
   "execution_count": null,
   "metadata": {},
   "outputs": [],
   "source": [
    "\n",
    "numbr = int(input(\"Enter a particular number of probes made. The default max is 33.  Enter integer or enter 0 for default.  \"))"
   ]
  },
  {
   "cell_type": "markdown",
   "metadata": {},
   "source": [
    "\n",
    "## Use the cell below to rerun the probe maker\n"
   ]
  },
  {
   "cell_type": "markdown",
   "metadata": {},
   "source": [
    " "
   ]
  },
  {
   "cell_type": "code",
   "execution_count": null,
   "metadata": {},
   "outputs": [],
   "source": [
    "maker(name,fullseq,amplifier,pause,choose,polyAT,polyCG,BlastProbes,db,dropout,show,report,maxprobe,numbr)"
   ]
  },
  {
   "cell_type": "markdown",
   "metadata": {},
   "source": [
    "### Jupyter Notebook help can be found here:\n",
    "https://jupyter-notebook.readthedocs.io/en/stable/"
   ]
  },
  {
   "cell_type": "markdown",
   "metadata": {},
   "source": [
    "## Before running this notebook you will need to have a few additional programs installed on your machine.\n",
    "\n",
    "   ### These Python libraries\n",
    "   ##### Biopython v1.77+\n",
    "   https://anaconda.org/anaconda/biopython\n",
    "   ##### Numpy v1.19.1+\n",
    "   https://anaconda.org/anaconda/numpy\n",
    "   ##### Pandas v1.1.1+\n",
    "   https://anaconda.org/anaconda/pandas\n",
    "   ### BLAST+\n",
    "   ##### Download\n",
    "   https://blast.ncbi.nlm.nih.gov/Blast.cgi?PAGE_TYPE=BlastDocs&DOC_TYPE=Download\n",
    "   ##### Installation help, PC\n",
    "   https://www.ncbi.nlm.nih.gov/books/NBK52637/\n",
    "   ##### Installation help, Mac/Unix\n",
    "   https://www.ncbi.nlm.nih.gov/books/NBK52640/\n",
    "    \n",
    "    "
   ]
  }
 ],
 "metadata": {
  "kernelspec": {
   "display_name": "Python 3 (ipykernel)",
   "language": "python",
   "name": "python3"
  },
  "language_info": {
   "codemirror_mode": {
    "name": "ipython",
    "version": 3
   },
   "file_extension": ".py",
   "mimetype": "text/x-python",
   "name": "python",
   "nbconvert_exporter": "python",
   "pygments_lexer": "ipython3",
   "version": "3.9.13"
  }
 },
 "nbformat": 4,
 "nbformat_minor": 4
}
